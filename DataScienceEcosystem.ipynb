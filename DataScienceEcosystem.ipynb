{
  "metadata": {
    "kernelspec": {
      "name": "python",
      "display_name": "Python (Pyodide)",
      "language": "python"
    },
    "language_info": {
      "codemirror_mode": {
        "name": "python",
        "version": 3
      },
      "file_extension": ".py",
      "mimetype": "text/x-python",
      "name": "python",
      "nbconvert_exporter": "python",
      "pygments_lexer": "ipython3",
      "version": "3.8"
    }
  },
  "nbformat_minor": 5,
  "nbformat": 4,
  "cells": [
    {
      "id": "f0a36d9c-8be4-41c5-a856-3d3ecf175f1d",
      "cell_type": "markdown",
      "source": "# Data Science Tools and Ecosystem",
      "metadata": {}
    },
    {
      "id": "781fc4a5-b377-4950-bde8-2882f5258dc9",
      "cell_type": "markdown",
      "source": "In this notebook, Data Science Tools and Ecosystem are summarized.",
      "metadata": {}
    },
    {
      "id": "6993d8ea-36cf-4846-b8f9-43b80e16a74b",
      "cell_type": "markdown",
      "source": "__Objectives:__\n+ List popular languages for data science.\n+ List popular libraries for data science.\n+ Learn about the most used development environment tools in data science.\n+ Practice Python language.\n+ Practice Markdown language.",
      "metadata": {}
    },
    {
      "id": "753253d8-7587-4d5b-ba56-c89b9b116f0b",
      "cell_type": "markdown",
      "source": "Some of the popular languages that Data Scientists use are:\n1. Python\n2. R\n3. SQL\n4. Julia\n5. Scala",
      "metadata": {}
    },
    {
      "id": "089b9bf3-cb8b-4024-8e14-6a7798831a80",
      "cell_type": "markdown",
      "source": "Some of the commonly used libraries used by Data Scientists include:\n1. NumPy\n2. Pandas\n3. Matplotlib\n4. Ggplot\n5. Seaborn",
      "metadata": {}
    },
    {
      "id": "980d2f6a-fd52-44c9-8fef-5aee0602cd00",
      "cell_type": "markdown",
      "source": "|Data Science Tools|\n|------------------|\n|Jupyter|\n|R Studio|\n|Apache Zeppelin|\n|Spyder|",
      "metadata": {}
    },
    {
      "id": "21a364be-5870-42b9-a27d-cca765be1eb7",
      "cell_type": "markdown",
      "source": "### Below are a few examples of evaluating arithmetic expressions in Python.",
      "metadata": {}
    },
    {
      "id": "7541d37d-7337-48af-8bdd-6027f25f1658",
      "cell_type": "code",
      "source": "#This a simple arithmetic expression to mutiply then add integers.\n(3*4)+5",
      "metadata": {
        "trusted": true
      },
      "outputs": [
        {
          "execution_count": 1,
          "output_type": "execute_result",
          "data": {
            "text/plain": "17"
          },
          "metadata": {}
        }
      ],
      "execution_count": 1
    },
    {
      "id": "9eb8f6cd-a3d3-494e-88d1-eaa44a8e6af1",
      "cell_type": "code",
      "source": "#This will convert 200 minutes to hours by diving by 60.\n200/60",
      "metadata": {
        "trusted": true
      },
      "outputs": [
        {
          "execution_count": 2,
          "output_type": "execute_result",
          "data": {
            "text/plain": "3.3333333333333335"
          },
          "metadata": {}
        }
      ],
      "execution_count": 2
    },
    {
      "id": "9a084216-0902-4159-b33b-829141b2a010",
      "cell_type": "code",
      "source": "#The result is 3,33 hours or 3 hours and 20 minutes.",
      "metadata": {
        "trusted": true
      },
      "outputs": [],
      "execution_count": 3
    },
    {
      "id": "993fe726-9ded-4b00-9991-6e78e197b791",
      "cell_type": "markdown",
      "source": "## Author\nManuel Gassull",
      "metadata": {}
    },
    {
      "id": "d7375315-e271-410a-b824-d24b289dc7a6",
      "cell_type": "code",
      "source": "",
      "metadata": {
        "trusted": true
      },
      "outputs": [],
      "execution_count": null
    }
  ]
}