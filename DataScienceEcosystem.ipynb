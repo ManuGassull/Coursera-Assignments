{
  "cells": [
    {
      "cell_type": "markdown",
      "id": "3c77d6e8",
      "metadata": {},
      "source": [
        "<center>\n",
        "    <img src=\"https://cf-courses-data.s3.us.cloud-object-storage.appdomain.cloud/IBMDeveloperSkillsNetwork-DS0105EN-SkillsNetwork/labs/Module2/images/SN_web_lightmode.png\" width=\"300\" alt=\"cognitiveclass.ai logo\">\n",
        "</center>"
      ]
    },
    {
      "cell_type": "markdown",
      "id": "4116bd97",
      "metadata": {},
      "source": [
        "# Hands-on Lab: Create your Jupyter Notebook"
      ]
    },
    {
      "cell_type": "markdown",
      "id": "e562959e",
      "metadata": {},
      "source": [
        "#### Add your code below following the instructions given in the course"
      ]
    },
    {
      "cell_type": "markdown",
      "id": "f0a36d9c-8be4-41c5-a856-3d3ecf175f1d",
      "metadata": {},
      "source": [
        "# Data Science Tools and Ecosystem"
      ]
    },
    {
      "cell_type": "markdown",
      "id": "781fc4a5-b377-4950-bde8-2882f5258dc9",
      "metadata": {},
      "source": [
        "In this notebook, Data Science Tools and Ecosystem are summarized."
      ]
    },
    {
      "cell_type": "markdown",
      "id": "6993d8ea-36cf-4846-b8f9-43b80e16a74b",
      "metadata": {},
      "source": [
        "__Objectives:__\n",
        "+ List popular languages for data science.\n",
        "+ List popular libraries for data science.\n",
        "+ Learn about the most used development environment tools in data science.\n",
        "+ Practice Python language.\n",
        "+ Practice Markdown language."
      ]
    },
    {
      "cell_type": "markdown",
      "id": "753253d8-7587-4d5b-ba56-c89b9b116f0b",
      "metadata": {},
      "source": [
        "Some of the popular languages that Data Scientists use are:\n",
        "1. Python\n",
        "2. R\n",
        "3. SQL\n",
        "4. Julia\n",
        "5. Scala"
      ]
    },
    {
      "cell_type": "markdown",
      "id": "089b9bf3-cb8b-4024-8e14-6a7798831a80",
      "metadata": {},
      "source": [
        "Some of the commonly used libraries used by Data Scientists include:\n",
        "1. NumPy\n",
        "2. Pandas\n",
        "3. Matplotlib\n",
        "4. Ggplot\n",
        "5. Seaborn"
      ]
    },
    {
      "cell_type": "markdown",
      "id": "980d2f6a-fd52-44c9-8fef-5aee0602cd00",
      "metadata": {},
      "source": [
        "|Data Science Tools|\n",
        "|------------------|\n",
        "|Jupyter|\n",
        "|R Studio|\n",
        "|Apache Zeppelin|\n",
        "|Spyder|"
      ]
    },
    {
      "cell_type": "markdown",
      "id": "21a364be-5870-42b9-a27d-cca765be1eb7",
      "metadata": {},
      "source": [
        "### Below are a few examples of evaluating arithmetic expressions in Python."
      ]
    },
    {
      "cell_type": "code",
      "execution_count": 1,
      "id": "7541d37d-7337-48af-8bdd-6027f25f1658",
      "metadata": {
        "trusted": true
      },
      "outputs": [
        {
          "data": {
            "text/plain": [
              "17"
            ]
          },
          "execution_count": 1,
          "metadata": {},
          "output_type": "execute_result"
        }
      ],
      "source": [
        "#This a simple arithmetic expression to mutiply then add integers.\n",
        "(3*4)+5"
      ]
    },
    {
      "cell_type": "code",
      "execution_count": 2,
      "id": "9eb8f6cd-a3d3-494e-88d1-eaa44a8e6af1",
      "metadata": {
        "trusted": true
      },
      "outputs": [
        {
          "data": {
            "text/plain": [
              "3.3333333333333335"
            ]
          },
          "execution_count": 2,
          "metadata": {},
          "output_type": "execute_result"
        }
      ],
      "source": [
        "#This will convert 200 minutes to hours by diving by 60.\n",
        "200/60"
      ]
    },
    {
      "cell_type": "code",
      "execution_count": 3,
      "id": "9a084216-0902-4159-b33b-829141b2a010",
      "metadata": {
        "trusted": true
      },
      "outputs": [],
      "source": [
        "#The result is 3,33 hours or 3 hours and 20 minutes."
      ]
    },
    {
      "cell_type": "markdown",
      "id": "993fe726-9ded-4b00-9991-6e78e197b791",
      "metadata": {},
      "source": [
        "## Author\n",
        "Manuel Gassull"
      ]
    },
    {
      "cell_type": "code",
      "execution_count": null,
      "id": "d7375315-e271-410a-b824-d24b289dc7a6",
      "metadata": {
        "trusted": true
      },
      "outputs": [],
      "source": []
    }
  ],
  "metadata": {
    "kernelspec": {
      "display_name": "Python (Pyodide)",
      "language": "python",
      "name": "python"
    },
    "language_info": {
      "codemirror_mode": {
        "name": "python",
        "version": 3
      },
      "file_extension": ".py",
      "mimetype": "text/x-python",
      "name": "python",
      "nbconvert_exporter": "python",
      "pygments_lexer": "ipython3",
      "version": "3.8"
    }
  },
  "nbformat": 4,
  "nbformat_minor": 5
}
